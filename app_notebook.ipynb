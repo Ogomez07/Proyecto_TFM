{
 "cells": [
  {
   "cell_type": "code",
   "execution_count": 2,
   "id": "b5d81de8",
   "metadata": {},
   "outputs": [
    {
     "name": "stderr",
     "output_type": "stream",
     "text": [
      "2025-06-04 19:07:10.024 Thread 'MainThread': missing ScriptRunContext! This warning can be ignored when running in bare mode.\n",
      "2025-06-04 19:07:10.024 Thread 'MainThread': missing ScriptRunContext! This warning can be ignored when running in bare mode.\n",
      "2025-06-04 19:07:10.026 Thread 'MainThread': missing ScriptRunContext! This warning can be ignored when running in bare mode.\n",
      "2025-06-04 19:07:10.027 Thread 'MainThread': missing ScriptRunContext! This warning can be ignored when running in bare mode.\n",
      "2025-06-04 19:07:10.029 Thread 'MainThread': missing ScriptRunContext! This warning can be ignored when running in bare mode.\n",
      "2025-06-04 19:07:10.030 Thread 'MainThread': missing ScriptRunContext! This warning can be ignored when running in bare mode.\n",
      "2025-06-04 19:07:10.031 Thread 'MainThread': missing ScriptRunContext! This warning can be ignored when running in bare mode.\n",
      "2025-06-04 19:07:10.033 Thread 'MainThread': missing ScriptRunContext! This warning can be ignored when running in bare mode.\n",
      "2025-06-04 19:07:10.034 Thread 'MainThread': missing ScriptRunContext! This warning can be ignored when running in bare mode.\n"
     ]
    }
   ],
   "source": [
    "# streamlit/app.py\n",
    "\n",
    "import streamlit as st\n",
    "import pandas as pd\n",
    "import tempfile\n",
    "import os\n",
    "from src import eda\n",
    "\n",
    "st.title(\"🧾 Extractor de movimientos bancarios desde PDF\")\n",
    "\n",
    "st.write(\"Sube tu archivo PDF con movimientos bancarios. El sistema detectará automáticamente el formato.\")\n",
    "\n",
    "archivo_pdf = st.file_uploader(\"📤 Sube tu PDF\", type=[\"pdf\"])\n",
    "\n",
    "if archivo_pdf:\n",
    "    # Guardar temporalmente el archivo PDF subido\n",
    "    with tempfile.NamedTemporaryFile(delete=False, suffix=\".pdf\") as tmp:\n",
    "        tmp.write(archivo_pdf.read())\n",
    "        ruta_pdf = tmp.name\n",
    "\n",
    "    try:\n",
    "        df = eda.extraer_movimientos(ruta_pdf, formato=\"auto\")\n",
    "        st.success(f\"✔ Se extrajeron {len(df)} movimientos.\")\n",
    "        st.dataframe(df)\n",
    "\n",
    "        # Permitir descarga\n",
    "        csv = df.to_csv(index=False, encoding=\"utf-8-sig\")\n",
    "        st.download_button(\"📥 Descargar CSV\", csv, file_name=\"movimientos_extraidos.csv\", mime=\"text/csv\")\n",
    "\n",
    "    except Exception as e:\n",
    "        st.error(f\"❌ Error al procesar el PDF: {e}\")\n",
    "\n",
    "    finally:\n",
    "        os.unlink(ruta_pdf)  # Limpiar archivo temporal"
   ]
  }
 ],
 "metadata": {
  "kernelspec": {
   "display_name": "proyecto_asesor",
   "language": "python",
   "name": "python3"
  },
  "language_info": {
   "codemirror_mode": {
    "name": "ipython",
    "version": 3
   },
   "file_extension": ".py",
   "mimetype": "text/x-python",
   "name": "python",
   "nbconvert_exporter": "python",
   "pygments_lexer": "ipython3",
   "version": "3.11.11"
  }
 },
 "nbformat": 4,
 "nbformat_minor": 5
}
