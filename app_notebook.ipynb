{
 "cells": [
  {
   "cell_type": "code",
   "execution_count": null,
   "id": "64e3f9b1",
   "metadata": {},
   "outputs": [],
   "source": [
    "# streamlit/app.py\n",
    "\n",
    "import streamlit as st\n",
    "import pandas as pd\n",
    "import tempfile\n",
    "import os\n",
    "from src import eda\n",
    "\n",
    "st.title(\"🧾 Extractor de movimientos bancarios desde PDF\")\n",
    "\n",
    "st.write(\"Sube tu archivo PDF con movimientos bancarios. El sistema detectará automáticamente el formato.\")\n",
    "\n",
    "archivo_pdf = st.file_uploader(\"📤 Sube tu PDF\", type=[\"pdf\"])\n",
    "\n",
    "if archivo_pdf:\n",
    "    # Guardar temporalmente el archivo PDF subido\n",
    "    with tempfile.NamedTemporaryFile(delete=False, suffix=\".pdf\") as tmp:\n",
    "        tmp.write(archivo_pdf.read())\n",
    "        ruta_pdf = tmp.name\n",
    "\n",
    "    try:\n",
    "        df = eda.extraer_movimientos(ruta_pdf, formato=\"auto\")\n",
    "        st.success(f\"✔ Se extrajeron {len(df)} movimientos.\")\n",
    "        st.dataframe(df)\n",
    "\n",
    "        # Permitir descarga\n",
    "        csv = df.to_csv(index=False, encoding=\"utf-8-sig\")\n",
    "        st.download_button(\"📥 Descargar CSV\", csv, file_name=\"movimientos_extraidos.csv\", mime=\"text/csv\")\n",
    "\n",
    "    except Exception as e:\n",
    "        st.error(f\"❌ Error al procesar el PDF: {e}\")\n",
    "\n",
    "    finally:\n",
    "        os.unlink(ruta_pdf)  # Limpiar archivo temporal"
   ]
  }
 ],
 "metadata": {
  "kernelspec": {
   "display_name": "proyecto_asesor",
   "language": "python",
   "name": "python3"
  },
  "language_info": {
   "name": "python",
   "version": "3.11.11"
  }
 },
 "nbformat": 4,
 "nbformat_minor": 5
}
